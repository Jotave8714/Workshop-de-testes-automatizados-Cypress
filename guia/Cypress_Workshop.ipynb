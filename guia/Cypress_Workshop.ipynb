{
  "cells": [
    {
      "cell_type": "markdown",
      "metadata": {
        "id": "24DcjtSjiy29"
      },
      "source": [
        "#1 Introdução ao Cypress\n"
      ]
    },
    {
      "cell_type": "markdown",
      "metadata": {
        "id": "3yasXcTUj_cj"
      },
      "source": [
        "##1.1 Oque são testes automatizados e por que usa-los?\n",
        "\n",
        "\n",
        "\n",
        "\n",
        "\n",
        "\n"
      ]
    },
    {
      "cell_type": "markdown",
      "metadata": {
        "id": "saj7N8Ldc4M1"
      },
      "source": [
        " São ferramentas e scripts para executar testes de forma automática, sem a intervenção manual de um testador. A ideia principal é escrever código para testar outro código.\n",
        "\n",
        "\n",
        "\n",
        "---\n",
        "\n",
        "\n",
        "\n",
        "A automação de testes traz várias vantagens:\n",
        "\n",
        "* **Velocidade**: A execução é muito mais rápida do que a manual. Isso permite testar o software com mais frequência.\n",
        "\n",
        "* **Repetibilidade**: Os testes podem ser executados quantas vezes forem necessárias, sempre da mesma forma. Isso garante que cada nova mudança no código não quebre funcionalidades que já existiam (o chamado teste de regressão).\n",
        "\n",
        "* **Eficiência**: Uma vez escritos, os testes podem ser reutilizados em diferentes versões do software. Eles liberam os testadores para focar em testes mais complexos e exploratórios, que exigem a criatividade e o julgamento humano.\n",
        "\n",
        "* **Confiabilidade**: A automação reduz o risco de erro humano. A máquina executa os testes exatamente como foram programados.\n",
        "\n",
        "\n"
      ]
    },
    {
      "cell_type": "markdown",
      "metadata": {
        "id": "Bf_a0ezqkSAS"
      },
      "source": [
        "##1.2 Importancia de testes automatizados\n",
        "\n",
        "\n"
      ]
    },
    {
      "cell_type": "markdown",
      "metadata": {
        "id": "n-mocBCdc_tB"
      },
      "source": [
        "1. Aumento da Qualidade do Software:\n",
        "\n",
        "  * Testes automatizados ajudam a detectar bugs e falhas no código de forma antecipada e consistente.\n",
        "\n",
        "  * Ao garantir que as funcionalidades existentes não sejam quebradas por novas implementações (o que chamamos de testes de regressão), eles asseguram a estabilidade do produto ao longo do tempo.\n",
        "\n",
        "2. Redução de Custos e Tempo a Longo Prazo:\n",
        "\n",
        "  * Embora a criação dos testes exija um investimento inicial de tempo, a economia a longo prazo é significativa. Encontrar e corrigir um bug em produção é muito mais caro do que encontrá-lo durante o desenvolvimento.\n",
        "\n",
        "  * A automação libera a equipe de testes para se concentrar em tarefas mais complexas e criativas, como testes exploratórios ou de usabilidade.\n",
        "\n",
        "3. Maior Velocidade e Confiança no Ciclo de Desenvolvimento:\n",
        "\n",
        "  * Com testes automatizados, é possível executar milhares de testes em minutos, o que é inviável manualmente. Isso acelera o ciclo de feedback e permite que os desenvolvedores corrijam problemas rapidamente.\n",
        "\n",
        "  * Eles fornecem uma \"rede de segurança\" que permite aos desenvolvedores e gerentes ter mais confiança ao realizar mudanças no código, refatorar ou adicionar novas funcionalidades.\n",
        "\n",
        "4. Integração Contínua e Entrega Contínua (CI/CD):\n",
        "\n",
        "  * Os testes automatizados são a base das práticas de CI/CD. Eles podem ser integrados a ferramentas que executam os testes automaticamente toda vez que um novo código é enviado, garantindo que o software esteja sempre em um estado \"entregável\". Isso é fundamental para empresas que buscam lançar atualizações de forma rápida e contínua.\n",
        "  "
      ]
    },
    {
      "cell_type": "markdown",
      "metadata": {
        "id": "mqNsmZoakjxQ"
      },
      "source": [
        "##1.3 Como o workshop vai funcionar ?\n"
      ]
    },
    {
      "cell_type": "markdown",
      "metadata": {
        "id": "m8765t7UddIT"
      },
      "source": [
        "Neste workshop, nossa meta é colocar a mão na massa! Vamos mergulhar no mundo dos testes Cypress E2E, explorando tanto a interface do usuário (UI) quanto as APIs. O objetivo é que você não apenas entenda a teoria, mas saia daqui com o conhecimento e as ferramentas necessárias para começar a aplicar testes Cypress nos seus próprios projetos imediatamente.\n",
        "\n",
        "Vamos seguir uma abordagem prática e passo a passo:\n",
        "\n",
        "* **Fundamentos do Cypress**: Começaremos com uma introdução rápida ao Cypress, sua arquitetura e as vantagens de usá-lo.\n",
        "\n",
        "* **Testes de UI**: Aprenderemos a simular as ações de um usuário, como clicar em botões, preencher formulários e navegar entre páginas, garantindo que a interface do seu aplicativo funcione como esperado.\n",
        "\n",
        "* **Testes de API**: Em seguida, vamos explorar como o Cypress pode ser usado para testar diretamente a sua API, validando requisições, respostas e o fluxo de dados, sem depender da interface.\n",
        "\n",
        "* **Melhores Práticas e Dicas**: Por fim, compartilharei dicas e truques para otimizar seus testes, deixá-los mais robustos e fáceis de manter."
      ]
    },
    {
      "cell_type": "markdown",
      "metadata": {
        "id": "ijP5B1XqvBuF"
      },
      "source": [
        "##1.4 Biblioteca Faker.js\n"
      ]
    },
    {
      "cell_type": "markdown",
      "metadata": {
        "id": "X_UPI6AcvIL2"
      },
      "source": [
        "A **Faker.js** é uma biblioteca JavaScript que gera dados falsos e realistas de forma aleatória. Ela é uma ferramenta extremamente útil para testes, porque permite que você preencha formulários e cenários com dados dinâmicos, em vez de usar informações fixas e repetitivas.\n",
        "\n",
        "1. **Geração de Dados Dinâmicos**: Em vez de usar o mesmo login e senha em todos os testes, você pode usar a **Faker.js** para gerar novos dados a cada execução.\n",
        "\n",
        "  * Exemplo: Um teste de cadastro de usuário pode criar um novo e-mail (`faker.internet.email()`) e um nome (`faker.person.fullName()`) a cada vez. Isso evita que seus testes falhem por causa de conflitos de dados, como tentar registrar um e-mail que já existe no banco.\n",
        "\n",
        "2. **Cenários de Teste Mais Realistas**: A **Faker.js** pode gerar dados que parecem reais, como nomes de pessoas, endereços, números de telefone, datas e muito mais.\n",
        "\n",
        "  * Exemplo: Em um teste de uma página de carrinho de compras, você pode preencher o formulário de endereço com dados como `faker.location.streetAddress()` e `faker.location.city()` para simular um usuário de verdade.\n",
        "\n",
        "3. **Redução de Código Repetitivo**: Com a **Faker.js**, você evita ter que criar listas de dados de teste manualmente. Em vez disso, você chama uma função que faz o trabalho por você, deixando seu código mais limpo e fácil de manter.\n"
      ]
    },
    {
      "cell_type": "markdown",
      "metadata": {
        "id": "tGtN5tT8lpfm"
      },
      "source": [
        "#2 Configurando ambiente"
      ]
    },
    {
      "cell_type": "markdown",
      "metadata": {
        "id": "IE7V2-ZDluVH"
      },
      "source": [
        "##2.1 Clone do repositorio"
      ]
    },
    {
      "cell_type": "markdown",
      "metadata": {
        "id": "AAhCRvH9_aZP"
      },
      "source": [
        "1. Acesse: https://github.com/Jotave8714/Workshop-de-testes-automatizados-Cypress\n",
        "\n",
        "2. abra o terminal\n",
        "\n",
        "3. git clone 'url'"
      ]
    },
    {
      "cell_type": "markdown",
      "metadata": {
        "id": "YMZNcdwIl8g7"
      },
      "source": [
        "##2.2 Instalando o cypress\n",
        "\n",
        "1. npm intall\n",
        "2. npm install --save-dev cypress@13.11.0"
      ]
    },
    {
      "cell_type": "markdown",
      "metadata": {
        "id": "cCRlBbLSDsVV"
      },
      "source": [
        "##2.3 Configurando o IntelliSense"
      ]
    },
    {
      "cell_type": "markdown",
      "metadata": {
        "id": "fhO_bt--D2_V"
      },
      "source": [
        "1. pesquise pelo arquivo **jsconfig.json**\n",
        "2. Adicione o código abaixo"
      ]
    },
    {
      "cell_type": "code",
      "execution_count": null,
      "metadata": {
        "id": "Nu7cOJCGDrNJ"
      },
      "outputs": [],
      "source": [
        "{\n",
        "  \"compilerOptions\": {\n",
        "    \"types\": [\"cypress\"]\n",
        "  },\n",
        "  \"include\": [\n",
        "    \"**/*.js\"\n",
        "  ]\n",
        "}"
      ]
    },
    {
      "cell_type": "markdown",
      "metadata": {
        "id": "hB8a_1_Xm74u"
      },
      "source": [
        "##2.4 Primeira execução"
      ]
    },
    {
      "cell_type": "markdown",
      "metadata": {
        "id": "7E-pR4ReA6Gg"
      },
      "source": [
        "1. npx cypress open"
      ]
    },
    {
      "cell_type": "markdown",
      "metadata": {
        "id": "sfwEDYgWojHJ"
      },
      "source": [
        "#3 Escrevendo o primeiro teste"
      ]
    },
    {
      "cell_type": "markdown",
      "metadata": {
        "id": "WLecBuUTlRmr"
      },
      "source": [
        "##3.1 Estrutura de um teste Cypress"
      ]
    },
    {
      "cell_type": "markdown",
      "metadata": {
        "id": "6ERBlZ3HlYMM"
      },
      "source": [
        "Vamos começar com a base de tudo: como escrever um teste Cypress.\n",
        "\n",
        "* `describe()` **e** `it()`: A sintaxe básica do Cypress é bastante legível. Usamos o `describe()` para agrupar testes que têm relação entre si. Pense nele como uma \"pasta\" para os seus testes. Já o `it()` representa um caso de teste individual. É nele que você escreve a lógica para testar uma funcionalidade específica.\n",
        "\n",
        "* **Curiosidade**: Você pode encontrar variações como `specify()` em vez de `it()`. Eles são sinônimos e funcionam exatamente da mesma forma. A escolha é uma questão de preferência da equipe.\n",
        "\n",
        "* `cy.visit()`: O primeiro passo de qualquer teste end-to-end (E2E) é ir para a página que queremos testar. O comando `cy.visit()` faz exatamente isso. Basta passar a URL como argumento, e o Cypress se encarregará de abrir a página no navegador."
      ]
    },
    {
      "cell_type": "markdown",
      "metadata": {
        "id": "pqQDetoco3zj"
      },
      "source": [
        "##3.2 Comandos do Cypress"
      ]
    },
    {
      "cell_type": "code",
      "execution_count": null,
      "metadata": {
        "id": "kpOWS8-L-QKl"
      },
      "outputs": [],
      "source": [
        "cy.visit('www.minhaURL.com')"
      ]
    },
    {
      "cell_type": "code",
      "execution_count": null,
      "metadata": {
        "id": "_7Yh35Bk-TTA"
      },
      "outputs": [],
      "source": [
        "cy.get('[data-testid=input-test]')"
      ]
    },
    {
      "cell_type": "code",
      "execution_count": null,
      "metadata": {
        "id": "XCGnkS0E-V4Z"
      },
      "outputs": [],
      "source": [
        "cy.click() e cy.click({ force: true })"
      ]
    },
    {
      "cell_type": "code",
      "execution_count": null,
      "metadata": {
        "id": "jqaJUYUt-dT_"
      },
      "outputs": [],
      "source": [
        "cy.type('Exemplo')"
      ]
    },
    {
      "cell_type": "code",
      "execution_count": null,
      "metadata": {
        "id": "DTkSN2zF-g8V"
      },
      "outputs": [],
      "source": [
        "cy.contains('button', 'Botão de Teste')"
      ]
    },
    {
      "cell_type": "code",
      "execution_count": null,
      "metadata": {
        "id": "FW0g1GFB-hUE"
      },
      "outputs": [],
      "source": [
        "cy.should()"
      ]
    },
    {
      "cell_type": "code",
      "execution_count": null,
      "metadata": {
        "id": "dnKQRs_H-htA"
      },
      "outputs": [],
      "source": [
        "cy.check() #Usado para CheckBox"
      ]
    },
    {
      "cell_type": "code",
      "execution_count": null,
      "metadata": {
        "id": "uzfpovFp-uts"
      },
      "outputs": [],
      "source": [
        "cy.request({\n",
        "    method: \"PUT\",\n",
        "    url: \"www.minhaURL.com\",\n",
        "    headers:{\n",
        "      #header da aplicação\n",
        "      Authorization: token,\n",
        "    },\n",
        "    body: body,\n",
        "    failOnStatusCode: false,\n",
        "})"
      ]
    },
    {
      "cell_type": "code",
      "execution_count": null,
      "metadata": {
        "id": "knJQzjAi-ux-"
      },
      "outputs": [],
      "source": [
        "describe('Nome do meu teste', () => {\n",
        "    context('Divisória do meu teste', () => {\n",
        "        it('Nome do meu caso de teste', () => {\n",
        "            #meu teste Cypress\n",
        "        })\n",
        "    })\n",
        "})"
      ]
    },
    {
      "cell_type": "code",
      "execution_count": null,
      "metadata": {
        "id": "BOml87wt-u1v"
      },
      "outputs": [],
      "source": [
        "beforeEach('', () => {\n",
        "    #Oque vai acontecer antes de cada teste\n",
        "})"
      ]
    },
    {
      "cell_type": "code",
      "execution_count": null,
      "metadata": {
        "id": "YUiD8RUu-7co"
      },
      "outputs": [],
      "source": [
        "afterEach('', () => {\n",
        "    #Oque vai acontecer depois de cada teste\n",
        "})"
      ]
    },
    {
      "cell_type": "code",
      "execution_count": null,
      "metadata": {
        "id": "GkLXPvch-7gY"
      },
      "outputs": [],
      "source": [
        "afterEach('', () => {\n",
        "    #Oque vai acontecer depois de cada teste\n",
        "})"
      ]
    },
    {
      "cell_type": "code",
      "execution_count": null,
      "metadata": {
        "id": "Jfw0A85p-7jo"
      },
      "outputs": [],
      "source": [
        "select() #Usado para selecionar componente de dropdown"
      ]
    },
    {
      "cell_type": "code",
      "execution_count": null,
      "metadata": {
        "id": "sqctW7garikg"
      },
      "outputs": [],
      "source": [
        "#Exemplo de um teste cypress em uma página de login\n",
        "\n",
        "describe('Testando a página de login', () => {\n",
        "  beforeEach(() => {\n",
        "    cy.visit('/login')\n",
        "  })\n",
        "\n",
        "  it('deve logar com sucesso', () => {\n",
        "    cy.get('#username').type('usuario-teste')\n",
        "    cy.get('#password').type('senha-secreta')\n",
        "    cy.get('button').click()\n",
        "\n",
        "    cy.contains('Bem-vindo').should('be.visible')\n",
        "  })\n",
        "})"
      ]
    },
    {
      "cell_type": "markdown",
      "metadata": {
        "id": "wef-RDAdpLSD"
      },
      "source": [
        "##3.3 Importância do ID de teste"
      ]
    },
    {
      "cell_type": "markdown",
      "metadata": {
        "id": "Xc_eNufwf2rY"
      },
      "source": [
        "Durante o workshop vocẽs vão se deparar com componentes sem Id's de teste,\n",
        "portanto o cypress pode lhe mostrar paths muito grandes que dificultam a leitura do teste e a comunicação entre a equipe de testes. A seguir mostrarei um exemplo de codigo com e sem id de teste"
      ]
    },
    {
      "cell_type": "code",
      "execution_count": null,
      "metadata": {
        "id": "G5LetLVUgY2Z"
      },
      "outputs": [],
      "source": [
        "#Exemplo de código sem ID de teste\n",
        "\n",
        "it('teste de login - Bem sucedido', () => {\n",
        "    cy.visit('https://uol.hmg.unifor.br/acesso/app/autenticacao/');\n",
        "    cy.get('app-login > .form-section > .login-inner-form > :nth-child(1) > .form-control').type(matricula)\n",
        "    cy.get('.label-float.clearfix > .form-control').type(senha)\n",
        "    cy.contains('button', 'Acessar').click();\n",
        "    cy.url().should('include', '/inicio');\n",
        "})"
      ]
    },
    {
      "cell_type": "code",
      "execution_count": null,
      "metadata": {
        "id": "FS4Cc1nThg7e"
      },
      "outputs": [],
      "source": [
        "#Exemplo de código com ID de teste\n",
        "\n",
        "it('teste de login - Bem sucedido', () => {\n",
        "    cy.visit('https://uol.hmg.unifor.br/acesso/app/autenticacao/');\n",
        "    cy.get('[data-cy=input-matricula]').type(matricula)\n",
        "    cy.get('[data-cy=input-senha]').type(senha);\n",
        "    cy.get('[data-cy=button-acessar]').click();\n",
        "    cy.url().should('include', '/inicio');\n",
        "})"
      ]
    },
    {
      "cell_type": "markdown",
      "metadata": {
        "id": "zAEQ-IQ4h-FK"
      },
      "source": [
        "Por que data-testid é melhor?\n",
        "O uso de data-testid (ou data-cy, que é similar e específico do Cypress) é uma melhor prática para selecionar elementos em testes automatizados.\n",
        "\n",
        "* **Robustez**: Ao contrário de seletores como :nth-child ou nomes de classes CSS, que podem mudar facilmente com pequenas alterações na interface, um data-testid é um atributo que você adiciona especificamente para fins de teste. Ele é menos propenso a quebrar se o design ou a estrutura HTML da página mudar.\n",
        "\n",
        "* **Clareza**: O data-testid torna o teste mais fácil de ler e entender. Você sabe exatamente qual elemento está sendo interagido apenas lendo o seletor.\n",
        "\n",
        "* **Manutenibilidade**: Se um desenvolvedor precisar refatorar o HTML, ele saberá que os atributos data-testid são usados pelos testes e deve mantê-los estáveis."
      ]
    },
    {
      "cell_type": "markdown",
      "metadata": {
        "id": "lUCG9iWUqhG-"
      },
      "source": [
        "#4 Cobertura de ponta a ponta do site"
      ]
    },
    {
      "cell_type": "markdown",
      "metadata": {
        "id": "zodteVSQqr9R"
      },
      "source": [
        "##4.1 Fazendo testes de UI"
      ]
    },
    {
      "cell_type": "markdown",
      "metadata": {
        "id": "UDzr4UXk8pwz"
      },
      "source": [
        "Após a apresentação dos comandos e das melhores práticas do Cypress, iniciaremos a fase prática do workshop. Neste momento, o objetivo é que cada participante aplique o conhecimento adquirido para construir, de forma guiada, um teste automatizado.\n",
        "\n",
        "Juntos, vamos desenvolver um caso de teste completo, desde a escrita do código até a sua execução e análise no Test Runner do Cypress. A ideia é que esta sessão de prática orientada sirva como um reforço direto do conteúdo, permitindo que cada um experimente a sintaxe e a lógica de teste em um ambiente controlado e com suporte.\n",
        "\n",
        "Estarei disponível para auxiliar em cada etapa, respondendo a dúvidas e garantindo que todos os participantes possam sair desta sessão com a confiança necessária para iniciar a automação de testes em seus próprios projetos."
      ]
    },
    {
      "cell_type": "markdown",
      "metadata": {
        "id": "hZw9Pv6JqyAj"
      },
      "source": [
        "##4.2 Fazendo testes de API"
      ]
    },
    {
      "cell_type": "markdown",
      "metadata": {
        "id": "Mb0ShihP8NFV"
      },
      "source": [
        "Nesta sessão, mudaremos nosso foco para a automação de testes de API, explorando como o Cypress pode ser uma ferramenta poderosa para validar a lógica de back-end da sua aplicação.\n",
        "\n",
        "  * O Comando `cy.request()`: O Cypress oferece o comando `cy.request()` para fazer requisições HTTP diretamente para os seus endpoints de API. Exploraremos como usar este comando para simular interações, como `GET`, `POST`, `PUT` e `DELETE`, sem a necessidade de uma interface de usuário.\n",
        "\n",
        "**Mão na Massa: Prática Orientada**\n",
        "\n",
        "Em um cenário de prática guiada, vamos construir um teste de API completo:\n",
        "\n",
        "1. **Requisição** `POST`: Simularemos o envio de dados para criar um novo recurso (por exemplo, um novo usuário ou produto).\n",
        "\n",
        "2. **Verificação da Resposta**: Validaremos o status code da resposta (`cy.request(...).its('status').should('eq', 201)`) e inspecionaremos o corpo da resposta para garantir que os dados foram salvos corretamente.\n",
        "\n",
        "3. **Requisição** `GET`: Faremos uma nova requisição para buscar o recurso recém-criado, verificando se ele existe e se os dados estão corretos."
      ]
    }
  ],
  "metadata": {
    "colab": {
      "provenance": [],
      "toc_visible": true
    },
    "kernelspec": {
      "display_name": "Python 3",
      "name": "python3"
    },
    "language_info": {
      "name": "python"
    }
  },
  "nbformat": 4,
  "nbformat_minor": 0
}
